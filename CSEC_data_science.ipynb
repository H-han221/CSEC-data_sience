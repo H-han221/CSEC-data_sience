{
  "nbformat": 4,
  "nbformat_minor": 0,
  "metadata": {
    "colab": {
      "provenance": [],
      "authorship_tag": "ABX9TyNkviX94Q0CB/XFtI+va174",
      "include_colab_link": true
    },
    "kernelspec": {
      "name": "python3",
      "display_name": "Python 3"
    },
    "language_info": {
      "name": "python"
    }
  },
  "cells": [
    {
      "cell_type": "markdown",
      "metadata": {
        "id": "view-in-github",
        "colab_type": "text"
      },
      "source": [
        "<a href=\"https://colab.research.google.com/github/H-han221/CSEC-data_sience/blob/main/CSEC_data_science.ipynb\" target=\"_parent\"><img src=\"https://colab.research.google.com/assets/colab-badge.svg\" alt=\"Open In Colab\"/></a>"
      ]
    },
    {
      "cell_type": "code",
      "execution_count": null,
      "metadata": {
        "id": "-_XSE6Zz9quc"
      },
      "outputs": [],
      "source": []
    },
    {
      "cell_type": "markdown",
      "source": [
        "sectio 1 solution\n",
        "Q.no(1)\n",
        "\n",
        " A.Lists\n",
        "\n",
        "Lists are fundamental data structures in\n",
        "Python used to store collections\n",
        "of data.\n",
        ". They can hold items of any data type, including numbers, strings, and\n",
        "even other lists.\n",
        ". Lists are ordered, changeable, and allow duplicate values.\n",
        ".Lists are mutable, allowing you to change their contents.\n",
        ".Lists can be created using square brackets [] and separating items with commas.\n",
        ".Also the list() constructor used to create lists.\n",
        "Example:\n",
        "animals=[dog,cat,sheep,cow]\n",
        "country=list((Ethiopia,Sudan,America,Egypt))\n",
        "\n",
        "B.Dictionaries\n",
        "\n",
        ".A dictionary is an ordered collection of\n",
        "key-value pairs,where each key must be\n",
        "unique and is associated with aspecific value.\n",
        ". They are also mutable and dynamic data structure.\n",
        "Initialization using dict() constructor and Curly braces { }.\n",
        ".Dictionary keys must be immutable data types to maintain data integrity.\n",
        ". Integers, Floats, Strings,Tuples and Booleans.\n",
        "Example:\n",
        " 1.person_info = {'name': 'John', 'age': 30, 'city': 'New York'}\n",
        " 2.dictionary={(1, 2): \"true\", False: \"Key\"}\n",
        " 3.name=dict([('name', 'John'),('age',30),('city','New York')])\n",
        "C.NumPy array\n",
        " A NumPy array is a powerful data structure provided by the NumPy library in Python, which is widely used for numerical and scientific computing. It is a grid of values, all of the same type, and is indexed by a tuple of non-negative integers. The array can be one-dimensional (like a list), two-dimensional (like a matrix), or multi-dimensional.\n",
        " Example:\n",
        "Q.no(3)\n",
        "there is no output (error) because \"x\" is not defined.\n",
        "In a pandas DataFrame, the .shape and .describe() methods provide useful information about the structure and summary statistics of the data.\n",
        "Q.no(4)\n",
        "▎A. .shape\n",
        "\n",
        ".The .shape attribute returns a tuple representing the dimensions of the DataFrame: (number_of_rows, number_of_columns).\n",
        "\n",
        "• This gives you a quick overview of how many records (rows) and features (columns) are present in your DataFrame.\n",
        "\n",
        "▎B. .describe()\n",
        "\n",
        ".The .describe() method generates descriptive statistics for numerical columns in the DataFrame.\n",
        "\n",
        ". It provides various summary statistics such as count, mean, standard deviation, minimum, maximum, and percentiles (25%, 50%, 75%).\n",
        "Q.no(5)\n",
        "import pandas as pd\n",
        "nh = pd.rcsv('airtravel.csv')\n",
        "print(nh.head())\n",
        "Q.no(6)\n",
        "The month with the highest total passengers is in JULY.\n",
        "The month with the lowest in 1958 IN NOVAMBER.\n",
        "Q.NO(7)\n",
        "The .groupby() function in pandas is used to group data based on one or more keys (columns). It allows you to perform operations on these groups, such as aggregating, filtering, or transforming the data. This is particularly useful for analyzing datasets where you want to summarize or manipulate data based on certain categories.\n",
        "Q.no( 10)\n",
        "If a column has a high standard deviation, it means the numbers in that column are spread out a lot. They are very different from each other.\n",
        "If a column has a low standard deviation, the numbers are close together. They are similar.\n",
        "Example:column a      column b\n",
        "         1\n",
        "         2\n",
        "         3\n",
        "         2\n",
        "         1\n",
        "         Low Standard Deviation List:\n",
        "         Numbers are close:1 and 2, 2 and 3.\n",
        "         Not much difference.\n",
        "         column b\n",
        "         4\n",
        "         12\n",
        "         6\n",
        "         0\n",
        "         2\n",
        "         10\n",
        "         High Standard Deviation List:\n",
        "         Numbers are far apart: 0, 2, 4, 6, 10, 12.\n",
        "         Much difference in values.\n",
        "Q.no(11)\n",
        "Real-World Problems Affected by Missing Data\n",
        "Missing data is a common issue across various fields, and it can significantly impact the validity and reliability of research findings.  \n",
        "Example 1: Healthcare Research.\n",
        "        2: Customer Segmentation in Marketing.\n",
        "\n",
        "\n",
        "\n",
        "\n",
        "\n"
      ],
      "metadata": {
        "id": "jfTxe5sN9xE8"
      }
    },
    {
      "cell_type": "code",
      "source": [],
      "metadata": {
        "id": "nyBzUZi0xHkC"
      },
      "execution_count": null,
      "outputs": []
    },
    {
      "cell_type": "code",
      "source": [],
      "metadata": {
        "id": "gaw5IDkYtMgm"
      },
      "execution_count": null,
      "outputs": []
    },
    {
      "cell_type": "code",
      "source": [
        "#Q.no(7) the code using dummy data\n",
        "import pandas as pd\n",
        "data = {\n",
        "    'student': ['Abebe', 'Bekalu', 'Arsema', 'Biniyam','selemon'],\n",
        "    'department': ['CSE', ' SW', 'CIVIL',  'CSE', 'ECE'],\n",
        "    'CGPA': [3.45,3.7,2.99,3.2,3.59]\n",
        "}\n",
        "df = pd.DataFrame(data)\n",
        "print(\"Original DataFrame:\")\n",
        "print(  df)\n",
        "grouped =   df.groupby('student')['CGPA'].sum().reset_index()\n",
        "print(\"\\nTotal  CGPA by student:\")\n",
        "print(grouped)\n",
        "#Q.no(8)\n",
        "\"\"\"  sns.load_dataset('titanic'):loads the Titanic dataset from seaborn.\n",
        "titanic.isnull():generates a DataFrame of the same shape as titanic, where each entry is True if the value is missing and False otherwise.\n",
        " .sum(): This sums the True values (which are treated as 1) for each column, effectively counting the number of missing values. \"\"\"\n",
        "import seaborn as sns\n",
        "import pandas as pd\n",
        "titanic = sns.load_dataset('titanic')\n",
        "missing_values = titanic.isnull().sum()\n",
        "print(\"Missing values in each column:\")\n",
        "print(missing_values)\n",
        "#Q.n(9)\n",
        "Import the libraries:\n",
        "\n",
        "import pandas as pd\n",
        "import matplotlib.pyplot as plt\n",
        "Load your data into a DataFrame:\n",
        "\n",
        "df = pd.read_csv('your_data.csv')  # Change 'your_data.csv' to your file name\n",
        "Make the histogram:\n",
        "\n",
        "df[\"Age\"].hist()\n",
        "plt.xlabel('Age')\n",
        "plt.ylabel('Frequency')\n",
        "plt.title('Age Distribution')\n",
        "plt.show()\n",
        "\"\"\"\n",
        "the shape of the data \"skewed (a shape that is tall on one side or the other.)\"\n",
        "the reason is skew:\n",
        "If it's skewed to the right: There are many younger people.\n",
        "If it's skewed to the left: There are more older people.\n",
        " \"\"\""
      ],
      "metadata": {
        "id": "N-Egtb7YsAx3"
      },
      "execution_count": null,
      "outputs": []
    },
    {
      "cell_type": "markdown",
      "source": [],
      "metadata": {
        "id": "C58Q2G-eymve"
      }
    },
    {
      "cell_type": "code",
      "source": [
        "#Q.no(2)\n",
        "def squarenumbers (number):\n",
        "   return[num**2 for num in number if num%2==0]\n",
        "number=[10, 15, 20, 25, 30]\n",
        "print (squarenumbers(number))\n"
      ],
      "metadata": {
        "colab": {
          "base_uri": "https://localhost:8080/"
        },
        "id": "d3xv6ooGMUdS",
        "outputId": "ad361396-174e-4159-e2df-6452bc48b74d"
      },
      "execution_count": null,
      "outputs": [
        {
          "output_type": "stream",
          "name": "stdout",
          "text": [
            "[100, 400, 900]\n"
          ]
        }
      ]
    },
    {
      "cell_type": "markdown",
      "source": [],
      "metadata": {
        "id": "Clbg2DNHMl1H"
      }
    },
    {
      "cell_type": "markdown",
      "source": [],
      "metadata": {
        "id": "0UH-2EU2MmGW"
      }
    },
    {
      "cell_type": "markdown",
      "source": [],
      "metadata": {
        "id": "lvz0auHDMmJm"
      }
    },
    {
      "cell_type": "markdown",
      "source": [],
      "metadata": {
        "id": "l20LNoQ1MmY6"
      }
    },
    {
      "cell_type": "code",
      "source": [],
      "metadata": {
        "id": "zt_KlveaGr3s"
      },
      "execution_count": null,
      "outputs": []
    },
    {
      "cell_type": "markdown",
      "source": [],
      "metadata": {
        "id": "4yXGJZT0GtZS"
      }
    }
  ]
}