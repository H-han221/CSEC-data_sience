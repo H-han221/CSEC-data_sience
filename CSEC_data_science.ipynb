{
  "nbformat": 4,
  "nbformat_minor": 0,
  "metadata": {
    "colab": {
      "provenance": [],
      "authorship_tag": "ABX9TyOFWvObgkgMfVmisdQYa5ZI",
      "include_colab_link": true
    },
    "kernelspec": {
      "name": "python3",
      "display_name": "Python 3"
    },
    "language_info": {
      "name": "python"
    }
  },
  "cells": [
    {
      "cell_type": "markdown",
      "metadata": {
        "id": "view-in-github",
        "colab_type": "text"
      },
      "source": [
        "<a href=\"https://colab.research.google.com/github/H-han221/CSEC-data_sience/blob/main/CSEC_data_science.ipynb\" target=\"_parent\"><img src=\"https://colab.research.google.com/assets/colab-badge.svg\" alt=\"Open In Colab\"/></a>"
      ]
    },
    {
      "cell_type": "code",
      "execution_count": null,
      "metadata": {
        "id": "-_XSE6Zz9quc"
      },
      "outputs": [],
      "source": []
    },
    {
      "cell_type": "markdown",
      "source": [
        "SOLUTIONS\n",
        "Section 1 – Python + Data Familiarity  \n",
        "\n",
        "Q.no(1)\n",
        "\n",
        " A.Lists\n",
        "\n",
        "Lists are fundamental data structures in\n",
        "Python used to store collections\n",
        "of data.\n",
        ". They can hold items of any data type, including numbers, strings, and\n",
        "even other lists.\n",
        ". Lists are ordered, changeable, and allow duplicate values.\n",
        ".Lists are mutable, allowing you to change their contents.\n",
        ".Lists can be created using square brackets [] and separating items with commas.\n",
        ".Also the list() constructor used to create lists.\n",
        "Example:\n",
        "animals=[dog,cat,sheep,cow]\n",
        "country=list((Ethiopia,Sudan,America,Egypt))\n",
        "\n",
        "B.Dictionaries\n",
        "\n",
        ".A dictionary is an ordered collection of\n",
        "key-value pairs,where each key must be\n",
        "unique and is associated with aspecific value.\n",
        ". They are also mutable and dynamic data structure.\n",
        "Initialization using dict() constructor and Curly braces { }.\n",
        ".Dictionary keys must be immutable data types to maintain data integrity.\n",
        ". Integers, Floats, Strings,Tuples and Booleans.\n",
        "Example:\n",
        " 1.person_info = {'name': 'John', 'age': 30, 'city': 'New York'}\n",
        " 2.dictionary={(1, 2): \"true\", False: \"Key\"}\n",
        " 3.name=dict([('name', 'John'),('age',30),('city','New York')])\n",
        "C.NumPy array\n",
        " A NumPy array is a powerful data structure provided by the NumPy library in Python, which is widely used for numerical and scientific computing. It is a grid of values, all of the same type, and is indexed by a tuple of non-negative integers. The array can be one-dimensional (like a list), two-dimensional (like a matrix), or multi-dimensional.\n",
        "\n",
        "Q.no(3)\n",
        "\n",
        "there is no output (error) because \"x\" is not defined.\n",
        "\n",
        "Q.no(4)\n",
        "\n",
        "In a pandas DataFrame, the .shape and .describe() methods provide useful information about the structure and summary statistics of the data.\n",
        "\n",
        " A. .shape\n",
        ".The .shape attribute returns a tuple representing the dimensions of the DataFrame: (number_of_rows, number_of_columns).\n",
        ". This gives you a quick overview of how many records (rows) and features (columns) are present in your DataFrame.\n",
        "\n",
        "▎B. .describe()\n",
        ".The .describe() method generates descriptive statistics for numerical columns in the DataFrame.\n",
        ".It provides various summary statistics such as count, mean, standard deviation, minimum, maximum, and percentiles (25%, 50%, 75%).\n",
        "\n",
        "Q.no(5)\n",
        "\n",
        "import pandas as pd\n",
        "nh = pd.rcsv('airtravel.csv')\n",
        "print(nh.head())\n",
        "\n",
        "Data Manipulation + Exploration\n",
        "Q.no(6)\n",
        "\n",
        "The month with the highest total passengers is in JULY.\n",
        "The month with the lowest in 1958 IN NOVAMBER.\n",
        "\n",
        "Q.NO(7)\n",
        "\n",
        "The .groupby() function in pandas is used to group data based on one or more keys (columns). It allows you to perform operations on these groups, such as aggregating, filtering, or transforming the data. This is particularly useful for analyzing datasets where you want to summarize or manipulate data based on certain categories.\n",
        "\n",
        "Reasoning + Light Analysis\n",
        "\n",
        "Q.no( 10)\n",
        "If a column has a high standard deviation, it means the numbers in that column are spread out a lot. They are very different from each other.\n",
        "If a column has a low standard deviation, the numbers are close together. They are similar.\n",
        "Example:column a      column b\n",
        "         1\n",
        "         2\n",
        "         3\n",
        "         2\n",
        "         1\n",
        "         Low Standard Deviation List:\n",
        "         Numbers are close:1 and 2, 2 and 3.\n",
        "         Not much difference.\n",
        "         column b\n",
        "         4\n",
        "         12\n",
        "         6\n",
        "         0\n",
        "         2\n",
        "         10\n",
        "         High Standard Deviation List:\n",
        "         Numbers are far apart: 0, 2, 4, 6, 10, 12.\n",
        "         Much difference in values.\n",
        "Q.no(11)\n",
        "Real-World Problems Affected by Missing Data\n",
        "Missing data is a common issue across various fields, and it can significantly impact the validity and reliability of research findings.  \n",
        "Example 1: Healthcare Research.\n",
        "        2: Customer Segmentation in Marketing.\n",
        "\n",
        "\n",
        "\n",
        "\n",
        "\n"
      ],
      "metadata": {
        "id": "jfTxe5sN9xE8"
      }
    },
    {
      "cell_type": "markdown",
      "source": [],
      "metadata": {
        "id": "omKCV-x07qwl"
      }
    },
    {
      "cell_type": "code",
      "source": [
        "# example of NumPy array Q.no(1)\n",
        "import numpy as np\n",
        "array_1d = np.array([1, 2, 3, 4, 5])\n",
        "array_2d = np.array([[1, 2, 3], [4, 5, 6]])\n",
        "array_squared = array_1d ** 2\n",
        "print(array_1d)\n",
        "print(array_2d)\n",
        "print(array_squared)"
      ],
      "metadata": {
        "colab": {
          "base_uri": "https://localhost:8080/"
        },
        "id": "sn8Szb9h7p_k",
        "outputId": "9c2c2f36-02c5-4d3e-e942-00f60ffde39f"
      },
      "execution_count": 1,
      "outputs": [
        {
          "output_type": "stream",
          "name": "stdout",
          "text": [
            "[1 2 3 4 5]\n",
            "[[1 2 3]\n",
            " [4 5 6]]\n",
            "[ 1  4  9 16 25]\n"
          ]
        }
      ]
    },
    {
      "cell_type": "code",
      "source": [
        "#Q.no(2)\n",
        "def squarenumbers (number):\n",
        "   return[num**2 for num in number if num%2==0]\n",
        "number=[10, 15, 20, 25, 30]\n",
        "print (squarenumbers(number))\n"
      ],
      "metadata": {
        "colab": {
          "base_uri": "https://localhost:8080/"
        },
        "id": "dkkiZf4h7XPb",
        "outputId": "42bf5929-e20d-481a-8384-7f1c2c966b07"
      },
      "execution_count": 2,
      "outputs": [
        {
          "output_type": "stream",
          "name": "stdout",
          "text": [
            "[100, 400, 900]\n"
          ]
        }
      ]
    },
    {
      "cell_type": "code",
      "source": [
        "#Q.no(7) the code using dummy data\n",
        "import pandas as pd\n",
        "data = {\n",
        "    'student': ['Abebe', 'Bekalu', 'Arsema', 'Biniyam','selemon'],\n",
        "    'department': ['CSE', ' SW', 'CIVIL',  'CSE', 'ECE'],\n",
        "    'CGPA': [3.45,3.7,2.99,3.2,3.59]\n",
        "}\n",
        "df = pd.DataFrame(data)\n",
        "print(\"Original DataFrame:\")\n",
        "print(  df)\n",
        "grouped =   df.groupby('student')['CGPA'].sum().reset_index()\n",
        "print(\"\\nTotal  CGPA by student:\")\n",
        "print(grouped)\n",
        ""
      ],
      "metadata": {
        "colab": {
          "base_uri": "https://localhost:8080/"
        },
        "id": "N-Egtb7YsAx3",
        "outputId": "cb0216a8-869c-4bed-fbae-0f80f6a2e427"
      },
      "execution_count": 4,
      "outputs": [
        {
          "output_type": "stream",
          "name": "stdout",
          "text": [
            "Original DataFrame:\n",
            "   student department  CGPA\n",
            "0    Abebe        CSE  3.45\n",
            "1   Bekalu         SW  3.70\n",
            "2   Arsema      CIVIL  2.99\n",
            "3  Biniyam        CSE  3.20\n",
            "4  selemon        ECE  3.59\n",
            "\n",
            "Total  CGPA by student:\n",
            "   student  CGPA\n",
            "0    Abebe  3.45\n",
            "1   Arsema  2.99\n",
            "2   Bekalu  3.70\n",
            "3  Biniyam  3.20\n",
            "4  selemon  3.59\n"
          ]
        }
      ]
    },
    {
      "cell_type": "code",
      "source": [
        "#Q.no(8)\n",
        "\"\"\"  sns.load_dataset('titanic'):loads the Titanic dataset from seaborn.\n",
        "titanic.isnull():generates a DataFrame of the same shape as titanic, where each entry is True if the value is missing and False otherwise.\n",
        " .sum(): This sums the True values (which are treated as 1) for each column, effectively counting the number of missing values. \"\"\"\n",
        "import seaborn as sns\n",
        "import pandas as pd\n",
        "titanic = sns.load_dataset('titanic')\n",
        "missing_values = titanic.isnull().sum()\n",
        "print(\"Missing values in each column:\")\n",
        "print(missing_values)"
      ],
      "metadata": {
        "colab": {
          "base_uri": "https://localhost:8080/"
        },
        "id": "7VNupmtm9frq",
        "outputId": "09c757a1-2a01-4f70-db44-af3bdcc009e6"
      },
      "execution_count": 5,
      "outputs": [
        {
          "output_type": "stream",
          "name": "stdout",
          "text": [
            "Missing values in each column:\n",
            "survived         0\n",
            "pclass           0\n",
            "sex              0\n",
            "age            177\n",
            "sibsp            0\n",
            "parch            0\n",
            "fare             0\n",
            "embarked         2\n",
            "class            0\n",
            "who              0\n",
            "adult_male       0\n",
            "deck           688\n",
            "embark_town      2\n",
            "alive            0\n",
            "alone            0\n",
            "dtype: int64\n"
          ]
        }
      ]
    },
    {
      "cell_type": "code",
      "source": [
        "#Q.n(9)\n",
        "\n",
        "import seaborn as sns\n",
        "import matplotlib.pyplot as plt\n",
        "titanic = sns.load_dataset('titanic')\n",
        "plt.figure(figsize=(10, 6))\n",
        "titanic['age'].hist(bins=30, edgecolor='black')\n",
        "plt.title('Age Distribution of Titanic Passengers')\n",
        "plt.xlabel('Age')\n",
        "plt.ylabel('Frequency')\n",
        "plt.show()\n",
        "\"\"\"\n",
        "the shape of the data \"skewed (a shape that is tall on one side or the other.)\"\n",
        "the reason is skew:\n",
        "If it's skewed to the right: There are many younger people.\n",
        "If it's skewed to the left: There are more older people.\n",
        " \"\"\""
      ],
      "metadata": {
        "colab": {
          "base_uri": "https://localhost:8080/",
          "height": 599
        },
        "id": "PanlM1yl9pMf",
        "outputId": "3e97ebca-faed-4259-9376-72e0bf810df4"
      },
      "execution_count": 9,
      "outputs": [
        {
          "output_type": "display_data",
          "data": {
            "text/plain": [
              "<Figure size 1000x600 with 1 Axes>"
            ],
            "image/png": "[encoded data removed]"
          },
          "metadata": {}
        },
        {
          "output_type": "execute_result",
          "data": {
            "text/plain": [
              "'\\nthe shape of the data \"skewed (a shape that is tall on one side or the other.)\"\\nthe reason is skew:\\nIf it\\'s skewed to the right: There are many younger people.\\nIf it\\'s skewed to the left: There are more older people.\\n '"
            ],
            "application/vnd.google.colaboratory.intrinsic+json": {
              "type": "string"
            }
          },
          "metadata": {},
          "execution_count": 9
        }
      ]
    }
  ]
}